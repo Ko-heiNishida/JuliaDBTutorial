{
 "cells": [
  {
   "cell_type": "markdown",
   "metadata": {},
   "source": [
    "## Introduction\n",
    "\n",
    "This is a brief tutorial on working with data using the new programming language Julia. In particular, I will use the [JuliaDB](http://juliadb.org/latest/) package to reproduce a well known [tutorial](https://rpubs.com/justmarkham/dplyr-tutorial). The data is some example flight dataset that you can find [here](https://raw.githubusercontent.com/piever/JuliaDBTutorial/master/hflights.csv).\n",
    "\n",
    "Simply open the link and choose `Save as` from the `File` menu in your browser to save the data to a folder on your computer."
   ]
  },
  {
   "cell_type": "markdown",
   "metadata": {},
   "source": [
    "## Loading the data\n",
    "\n",
    "Loading a csv file is straightforward with JuliaDB:"
   ]
  },
  {
   "cell_type": "code",
   "execution_count": 23,
   "metadata": {},
   "outputs": [],
   "source": [
    "using JuliaDB, IndexedTables\n",
    "flights = loadtable(\"/home/pietro/Downloads/hflights.csv\");"
   ]
  },
  {
   "cell_type": "markdown",
   "metadata": {},
   "source": [
    "Of course, replace the path with the location of the dataset you have just downloaded."
   ]
  },
  {
   "cell_type": "markdown",
   "metadata": {},
   "source": [
    "## Filtering the data\n",
    "\n",
    "In order to select only rows matching certain criteria, use the `filter` function:"
   ]
  },
  {
   "cell_type": "code",
   "execution_count": 24,
   "metadata": {},
   "outputs": [],
   "source": [
    "filter(i -> (i.Month == 1) && (i.DayofMonth == 1), flights);"
   ]
  },
  {
   "cell_type": "markdown",
   "metadata": {},
   "source": [
    "To test if one of two conditions is verified:"
   ]
  },
  {
   "cell_type": "code",
   "execution_count": 25,
   "metadata": {},
   "outputs": [],
   "source": [
    "filter(i -> (i.UniqueCarrier == \"AA\") || (i.UniqueCarrier == \"UA\"), flights)\n",
    "\n",
    "# in this case, you can simply test whether the `UniqueCarrier` is in a given list:\n",
    "\n",
    "filter(i -> i.UniqueCarrier in [\"AA\", \"UA\"], flights);"
   ]
  },
  {
   "cell_type": "markdown",
   "metadata": {},
   "source": [
    "## Select: pick columns by name\n",
    "\n",
    "You can use the `select` function to select a subset of columns:"
   ]
  },
  {
   "cell_type": "code",
   "execution_count": 26,
   "metadata": {},
   "outputs": [
    {
     "data": {
      "text/plain": [
       "Table with 227496 rows, 3 columns:\n",
       "DepTime  ArrTime  FlightNum\n",
       "───────────────────────────\n",
       "1400     1500     428\n",
       "1401     1501     428\n",
       "1352     1502     428\n",
       "1403     1513     428\n",
       "1405     1507     428\n",
       "1359     1503     428\n",
       "1359     1509     428\n",
       "1355     1454     428\n",
       "1443     1554     428\n",
       "1443     1553     428\n",
       "1429     1539     428\n",
       "1419     1515     428\n",
       "⋮\n",
       "1939     2119     124\n",
       "556      745      280\n",
       "1026     1208     782\n",
       "1611     1746     1050\n",
       "758      1051     201\n",
       "1307     1600     471\n",
       "1818     2111     1191\n",
       "2047     2334     1674\n",
       "912      1031     127\n",
       "656      812      621\n",
       "1600     1713     1597"
      ]
     },
     "execution_count": 26,
     "metadata": {},
     "output_type": "execute_result"
    }
   ],
   "source": [
    "select(flights, (:DepTime, :ArrTime, :FlightNum))"
   ]
  },
  {
   "cell_type": "markdown",
   "metadata": {},
   "source": [
    "Let's select all columns between `:Year` and `:Month` as well as all columns containing \"Taxi\" or \"Delay\" in their name:"
   ]
  },
  {
   "cell_type": "code",
   "execution_count": 27,
   "metadata": {},
   "outputs": [
    {
     "data": {
      "text/plain": [
       "Table with 227496 rows, 7 columns:\n",
       "Year  Month  DayofMonth  TaxiIn  TaxiOut  ArrDelay  DepDelay\n",
       "────────────────────────────────────────────────────────────\n",
       "2011  1      1           7       13       -10       0\n",
       "2011  1      2           6       9        -9        1\n",
       "2011  1      3           5       17       -8        -8\n",
       "2011  1      4           9       22       3         3\n",
       "2011  1      5           9       9        -3        5\n",
       "2011  1      6           6       13       -7        -1\n",
       "2011  1      7           12      15       -1        -1\n",
       "2011  1      8           7       12       -16       -5\n",
       "2011  1      9           8       22       44        43\n",
       "2011  1      10          6       19       43        43\n",
       "2011  1      11          8       20       29        29\n",
       "2011  1      12          4       11       5         19\n",
       "⋮\n",
       "2011  12     6           4       15       14        39\n",
       "2011  12     6           13      9        -10       -4\n",
       "2011  12     6           4       12       -12       1\n",
       "2011  12     6           3       9        -9        16\n",
       "2011  12     6           3       10       -4        -2\n",
       "2011  12     6           5       10       0         7\n",
       "2011  12     6           5       11       -9        8\n",
       "2011  12     6           4       9        4         7\n",
       "2011  12     6           4       14       -4        -3\n",
       "2011  12     6           3       9        -13       -4\n",
       "2011  12     6           3       11       -12       0"
      ]
     },
     "execution_count": 27,
     "metadata": {},
     "output_type": "execute_result"
    }
   ],
   "source": [
    "cn = colnames(flights)\n",
    "i1, i2 = find(indexin(cn, [:Year, :DayofMonth]))\n",
    "taxicols = find(i -> contains(string(i), \"Taxi\"), cn)\n",
    "delaycols = find(i -> contains(string(i), \"Delay\"), cn)\n",
    "select(flights, Tuple(union(i1:i2, taxicols, delaycols)))"
   ]
  },
  {
   "cell_type": "markdown",
   "metadata": {},
   "source": [
    "## Applying several operations\n",
    "\n",
    "If one wants to apply several operations one after the other, there are two main approaches:\n",
    "\n",
    "- nesting\n",
    "- piping\n",
    "\n",
    "Let's assume we want to select `UniqueCarrier` and `DepDelay` columns and filter for delays over 60 minutes. The nesting approach would be:\n"
   ]
  },
  {
   "cell_type": "code",
   "execution_count": 28,
   "metadata": {},
   "outputs": [
    {
     "data": {
      "text/plain": [
       "Table with 10242 rows, 2 columns:\n",
       "UniqueCarrier  DepDelay\n",
       "───────────────────────\n",
       "\"AA\"           90\n",
       "\"AA\"           67\n",
       "\"AA\"           74\n",
       "\"AA\"           125\n",
       "\"AA\"           82\n",
       "\"AA\"           99\n",
       "\"AA\"           70\n",
       "\"AA\"           61\n",
       "\"AA\"           74\n",
       "\"AS\"           73\n",
       "\"B6\"           136\n",
       "\"B6\"           68\n",
       "⋮\n",
       "\"WN\"           129\n",
       "\"WN\"           61\n",
       "\"WN\"           70\n",
       "\"WN\"           76\n",
       "\"WN\"           63\n",
       "\"WN\"           144\n",
       "\"WN\"           117\n",
       "\"WN\"           124\n",
       "\"WN\"           72\n",
       "\"WN\"           70\n",
       "\"WN\"           78"
      ]
     },
     "execution_count": 28,
     "metadata": {},
     "output_type": "execute_result"
    }
   ],
   "source": [
    "filter(i -> i.DepDelay > 60, select(flights, (:UniqueCarrier, :DepDelay)))"
   ]
  },
  {
   "cell_type": "markdown",
   "metadata": {},
   "source": [
    "For piping, we'll use the excellent [Lazy](https://github.com/MikeInnes/Lazy.jl) package."
   ]
  },
  {
   "cell_type": "code",
   "execution_count": 29,
   "metadata": {},
   "outputs": [
    {
     "data": {
      "text/plain": [
       "Table with 10242 rows, 2 columns:\n",
       "UniqueCarrier  DepDelay\n",
       "───────────────────────\n",
       "\"AA\"           90\n",
       "\"AA\"           67\n",
       "\"AA\"           74\n",
       "\"AA\"           125\n",
       "\"AA\"           82\n",
       "\"AA\"           99\n",
       "\"AA\"           70\n",
       "\"AA\"           61\n",
       "\"AA\"           74\n",
       "\"AS\"           73\n",
       "\"B6\"           136\n",
       "\"B6\"           68\n",
       "⋮\n",
       "\"WN\"           129\n",
       "\"WN\"           61\n",
       "\"WN\"           70\n",
       "\"WN\"           76\n",
       "\"WN\"           63\n",
       "\"WN\"           144\n",
       "\"WN\"           117\n",
       "\"WN\"           124\n",
       "\"WN\"           72\n",
       "\"WN\"           70\n",
       "\"WN\"           78"
      ]
     },
     "execution_count": 29,
     "metadata": {},
     "output_type": "execute_result"
    }
   ],
   "source": [
    "import Lazy\n",
    "Lazy.@as x flights begin\n",
    "    select(x, (:UniqueCarrier, :DepDelay))\n",
    "    filter(i -> i.DepDelay > 60, x)\n",
    "end"
   ]
  },
  {
   "cell_type": "markdown",
   "metadata": {},
   "source": [
    "where the variable `x` denotes our data at each stage. At the beginning it is `flights`, then it only has the two relevant columns and, at the last step, it is filtered."
   ]
  },
  {
   "cell_type": "markdown",
   "metadata": {},
   "source": [
    "## Reorder rows\n",
    "\n",
    "Select `UniqueCarrier` and `DepDelay` columns and sort by `DepDelay`:"
   ]
  },
  {
   "cell_type": "code",
   "execution_count": 30,
   "metadata": {},
   "outputs": [
    {
     "data": {
      "text/plain": [
       "Table with 227496 rows, 2 columns:\n",
       "UniqueCarrier  DepDelay\n",
       "───────────────────────\n",
       "\"OO\"           -33\n",
       "\"MQ\"           -23\n",
       "\"XE\"           -19\n",
       "\"XE\"           -19\n",
       "\"CO\"           -18\n",
       "\"EV\"           -18\n",
       "\"XE\"           -17\n",
       "\"CO\"           -17\n",
       "\"XE\"           -17\n",
       "\"MQ\"           -17\n",
       "\"XE\"           -17\n",
       "\"DL\"           -17\n",
       "⋮\n",
       "\"US\"           #NA\n",
       "\"US\"           #NA\n",
       "\"US\"           #NA\n",
       "\"WN\"           #NA\n",
       "\"WN\"           #NA\n",
       "\"WN\"           #NA\n",
       "\"WN\"           #NA\n",
       "\"WN\"           #NA\n",
       "\"WN\"           #NA\n",
       "\"WN\"           #NA\n",
       "\"WN\"           #NA"
      ]
     },
     "execution_count": 30,
     "metadata": {},
     "output_type": "execute_result"
    }
   ],
   "source": [
    "sort(flights, :DepDelay, select = (:UniqueCarrier, :DepDelay))"
   ]
  },
  {
   "cell_type": "markdown",
   "metadata": {},
   "source": [
    "or, in reverse order:"
   ]
  },
  {
   "cell_type": "code",
   "execution_count": 31,
   "metadata": {},
   "outputs": [
    {
     "data": {
      "text/plain": [
       "Table with 227496 rows, 2 columns:\n",
       "UniqueCarrier  DepDelay\n",
       "───────────────────────\n",
       "\"AA\"           #NA\n",
       "\"AA\"           #NA\n",
       "\"B6\"           #NA\n",
       "\"B6\"           #NA\n",
       "\"B6\"           #NA\n",
       "\"CO\"           #NA\n",
       "\"CO\"           #NA\n",
       "\"CO\"           #NA\n",
       "\"CO\"           #NA\n",
       "\"CO\"           #NA\n",
       "\"CO\"           #NA\n",
       "\"CO\"           #NA\n",
       "⋮\n",
       "\"CO\"           -17\n",
       "\"XE\"           -17\n",
       "\"XE\"           -17\n",
       "\"US\"           -17\n",
       "\"EV\"           -17\n",
       "\"CO\"           -18\n",
       "\"EV\"           -18\n",
       "\"XE\"           -19\n",
       "\"XE\"           -19\n",
       "\"MQ\"           -23\n",
       "\"OO\"           -33"
      ]
     },
     "execution_count": 31,
     "metadata": {},
     "output_type": "execute_result"
    }
   ],
   "source": [
    "sort(flights, :DepDelay, select = (:UniqueCarrier, :DepDelay), rev = true)"
   ]
  },
  {
   "cell_type": "markdown",
   "metadata": {},
   "source": [
    "## Add new variables\n",
    "Use the `pushcol` function to add a column to an existing dataset:"
   ]
  },
  {
   "cell_type": "code",
   "execution_count": 32,
   "metadata": {},
   "outputs": [],
   "source": [
    "distance, airtime = columns(flights, (:Distance, :AirTime))\n",
    "pushcol(flights, :Speed, distance ./ airtime .* 60);"
   ]
  },
  {
   "cell_type": "markdown",
   "metadata": {},
   "source": [
    "If you need to add the new column to the existing dataset:"
   ]
  },
  {
   "cell_type": "code",
   "execution_count": 33,
   "metadata": {},
   "outputs": [],
   "source": [
    "distance, airtime = columns(flights, (:Distance, :AirTime))\n",
    "flights = pushcol(flights, :Speed, distance ./ airtime .* 60);"
   ]
  },
  {
   "cell_type": "markdown",
   "metadata": {},
   "source": [
    "## Reduce variables to values\n",
    "\n",
    "To get the average delay, we first filter away datapoints where `ArrDelay` is missing, then group by `:Dest`, select `:ArrDelay` and compute the mean:"
   ]
  },
  {
   "cell_type": "code",
   "execution_count": 34,
   "metadata": {},
   "outputs": [
    {
     "data": {
      "text/plain": [
       "Table with 116 rows, 2 columns:\n",
       "\u001b[1mDest   \u001b[22mavg_delay\n",
       "────────────────\n",
       "\"ABQ\"  7.22626\n",
       "\"AEX\"  5.83944\n",
       "\"AGS\"  4.0\n",
       "\"AMA\"  6.8401\n",
       "\"ANC\"  26.0806\n",
       "\"ASE\"  6.79464\n",
       "\"ATL\"  8.23325\n",
       "\"AUS\"  7.44872\n",
       "\"AVL\"  9.97399\n",
       "\"BFL\"  -13.1988\n",
       "\"BHM\"  8.69583\n",
       "\"BKG\"  -16.2336\n",
       "⋮\n",
       "\"SJU\"  11.5464\n",
       "\"SLC\"  1.10485\n",
       "\"SMF\"  4.66271\n",
       "\"SNA\"  0.35801\n",
       "\"STL\"  7.45488\n",
       "\"TPA\"  4.88038\n",
       "\"TUL\"  6.35171\n",
       "\"TUS\"  7.80168\n",
       "\"TYS\"  11.3659\n",
       "\"VPS\"  12.4572\n",
       "\"XNA\"  6.89628"
      ]
     },
     "execution_count": 34,
     "metadata": {},
     "output_type": "execute_result"
    }
   ],
   "source": [
    "groupby(@NT(avg_delay = mean∘dropna), flights, :Dest, select = :ArrDelay)"
   ]
  },
  {
   "cell_type": "markdown",
   "metadata": {},
   "source": [
    "Using `summarize`, we can summarize several columns at the same time:"
   ]
  },
  {
   "cell_type": "code",
   "execution_count": 35,
   "metadata": {},
   "outputs": [
    {
     "data": {
      "text/plain": [
       "Table with 15 rows, 5 columns:\n",
       "\u001b[1mUniqueCarrier  \u001b[22mArrDelay_min  DepDelay_min  ArrDelay_max  DepDelay_max\n",
       "─────────────────────────────────────────────────────────────────────\n",
       "\"AA\"           -39           -15           978           970\n",
       "\"AS\"           -43           -15           183           172\n",
       "\"B6\"           -44           -14           335           310\n",
       "\"CO\"           -55           -18           957           981\n",
       "\"DL\"           -32           -17           701           730\n",
       "\"EV\"           -40           -18           469           479\n",
       "\"F9\"           -24           -15           277           275\n",
       "\"FL\"           -30           -14           500           507\n",
       "\"MQ\"           -38           -23           918           931\n",
       "\"OO\"           -57           -33           380           360\n",
       "\"UA\"           -47           -11           861           869\n",
       "\"US\"           -42           -17           433           425\n",
       "\"WN\"           -44           -10           499           548\n",
       "\"XE\"           -70           -19           634           628\n",
       "\"YV\"           -32           -11           72            54"
      ]
     },
     "execution_count": 35,
     "metadata": {},
     "output_type": "execute_result"
    }
   ],
   "source": [
    "summarize(mean∘dropna, flights, :Dest, select = (:Cancelled, :Diverted))\n",
    "\n",
    "# For each carrier, calculate the minimum and maximum arrival and departure delays:\n",
    "\n",
    "cols = Tuple(find(i -> contains(string(i), \"Delay\"), colnames(flights)))\n",
    "summarize(@NT(min = minimum∘dropna, max = maximum∘dropna), flights, :UniqueCarrier, select = cols)"
   ]
  },
  {
   "cell_type": "markdown",
   "metadata": {},
   "source": [
    "For each day of the year, count the total number of flights and sort in descending order:"
   ]
  },
  {
   "cell_type": "code",
   "execution_count": 36,
   "metadata": {},
   "outputs": [
    {
     "data": {
      "text/plain": [
       "Table with 31 rows, 2 columns:\n",
       "DayofMonth  length\n",
       "──────────────────\n",
       "28          7777\n",
       "27          7717\n",
       "21          7698\n",
       "14          7694\n",
       "7           7621\n",
       "18          7613\n",
       "6           7606\n",
       "20          7599\n",
       "11          7578\n",
       "13          7546\n",
       "10          7541\n",
       "17          7537\n",
       "⋮\n",
       "25          7406\n",
       "16          7389\n",
       "8           7366\n",
       "12          7301\n",
       "4           7297\n",
       "19          7295\n",
       "24          7234\n",
       "5           7223\n",
       "30          6728\n",
       "29          6697\n",
       "31          4339"
      ]
     },
     "execution_count": 36,
     "metadata": {},
     "output_type": "execute_result"
    }
   ],
   "source": [
    "Lazy.@as x flights begin\n",
    "    groupby(length, x, :DayofMonth)\n",
    "    sort(x, :length, rev = true)\n",
    "end"
   ]
  },
  {
   "cell_type": "markdown",
   "metadata": {},
   "source": [
    "For each destination, count the total number of flights and the number of distinct planes that flew there"
   ]
  },
  {
   "cell_type": "code",
   "execution_count": 37,
   "metadata": {},
   "outputs": [
    {
     "data": {
      "text/plain": [
       "Table with 116 rows, 3 columns:\n",
       "\u001b[1mDest   \u001b[22mflight_count  plane_count\n",
       "────────────────────────────────\n",
       "\"ABQ\"  2812          716\n",
       "\"AEX\"  724           215\n",
       "\"AGS\"  1             1\n",
       "\"AMA\"  1297          158\n",
       "\"ANC\"  125           38\n",
       "\"ASE\"  125           60\n",
       "\"ATL\"  7886          983\n",
       "\"AUS\"  5022          1015\n",
       "\"AVL\"  350           142\n",
       "\"BFL\"  504           70\n",
       "\"BHM\"  2736          616\n",
       "\"BKG\"  110           63\n",
       "⋮\n",
       "\"SJU\"  391           115\n",
       "\"SLC\"  2033          368\n",
       "\"SMF\"  1014          184\n",
       "\"SNA\"  1661          67\n",
       "\"STL\"  2509          788\n",
       "\"TPA\"  3085          697\n",
       "\"TUL\"  2924          771\n",
       "\"TUS\"  1565          226\n",
       "\"TYS\"  1210          227\n",
       "\"VPS\"  880           224\n",
       "\"XNA\"  1172          177"
      ]
     },
     "execution_count": 37,
     "metadata": {},
     "output_type": "execute_result"
    }
   ],
   "source": [
    "groupby(@NT(flight_count = length, plane_count = length∘union), flights, :Dest, select = :TailNum)"
   ]
  },
  {
   "cell_type": "markdown",
   "metadata": {},
   "source": [
    "## Window functions\n",
    "\n",
    "In the previous section, we always applied functions that reduced a table or vector to a single value.\n",
    "Window functions instead take a vector and return a vector of the same length, and can also be used to\n",
    "manipulate data. For example we can rank, within each `UniqueCarrier`, how much\n",
    "delay a given flight had and figure out the day and month with the two greatest delays:"
   ]
  },
  {
   "cell_type": "code",
   "execution_count": 38,
   "metadata": {},
   "outputs": [],
   "source": [
    "#using StatsBase\n",
    "#fc = filter(t->!isnull(t.DepDelay), flights)\n",
    "#gfc = groupby(fc, :UniqueCarrier, select = (:Month, :DayofMonth, :DepDelay), flatten = true) do dd\n",
    "#    rks = ordinalrank([i.DepDelay for i in dd], rev = true)\n",
    "#    sort(dd[rks .<= 2], by =  i -> i.DepDelay, rev = true)\n",
    "#end;"
   ]
  },
  {
   "cell_type": "markdown",
   "metadata": {},
   "source": [
    "Though in this case, it would have been simpler to use Julia partial sorting:"
   ]
  },
  {
   "cell_type": "code",
   "execution_count": 39,
   "metadata": {},
   "outputs": [
    {
     "data": {
      "text/plain": [
       "Table with 30 rows, 4 columns:\n",
       "\u001b[1mUniqueCarrier  \u001b[22mMonth  DayofMonth  DepDelay\n",
       "──────────────────────────────────────────\n",
       "\"AA\"           12     12          970\n",
       "\"AA\"           11     19          677\n",
       "\"AS\"           2      28          172\n",
       "\"AS\"           7      6           138\n",
       "\"B6\"           10     29          310\n",
       "\"B6\"           8      19          283\n",
       "\"CO\"           8      1           981\n",
       "\"CO\"           1      20          780\n",
       "\"DL\"           10     25          730\n",
       "\"DL\"           4      5           497\n",
       "\"EV\"           6      25          479\n",
       "\"EV\"           1      5           465\n",
       "⋮\n",
       "\"OO\"           4      4           343\n",
       "\"UA\"           6      21          869\n",
       "\"UA\"           9      18          588\n",
       "\"US\"           4      19          425\n",
       "\"US\"           8      26          277\n",
       "\"WN\"           4      8           548\n",
       "\"WN\"           9      29          503\n",
       "\"XE\"           12     29          628\n",
       "\"XE\"           12     29          511\n",
       "\"YV\"           4      22          54\n",
       "\"YV\"           4      30          46"
      ]
     },
     "execution_count": 39,
     "metadata": {},
     "output_type": "execute_result"
    }
   ],
   "source": [
    "groupby(fc, :UniqueCarrier, select = (:Month, :DayofMonth, :DepDelay), flatten = true) do dd\n",
    "    select(dd, 1:2, by = i -> i.DepDelay, rev = true)\n",
    "end"
   ]
  },
  {
   "cell_type": "markdown",
   "metadata": {},
   "source": [
    "For each month, calculate the number of flights and the change from the previous month"
   ]
  },
  {
   "cell_type": "code",
   "execution_count": 40,
   "metadata": {},
   "outputs": [
    {
     "data": {
      "text/plain": [
       "Table with 12 rows, 3 columns:\n",
       "\u001b[1mMonth  \u001b[22mlength  change\n",
       "──────────────────────\n",
       "1      18910   missing\n",
       "2      17128   -1782\n",
       "3      19470   2342\n",
       "4      18593   -877\n",
       "5      19172   579\n",
       "6      19600   428\n",
       "7      20548   948\n",
       "8      20176   -372\n",
       "9      18065   -2111\n",
       "10     18696   631\n",
       "11     18021   -675\n",
       "12     19117   1096"
      ]
     },
     "execution_count": 40,
     "metadata": {},
     "output_type": "execute_result"
    }
   ],
   "source": [
    "using ShiftedArrays\n",
    "y = groupby(length, flights, :Month)\n",
    "lengths = columns(y, :length)\n",
    "pushcol(y, :change, lengths .- lag(lengths))"
   ]
  },
  {
   "cell_type": "code",
   "execution_count": null,
   "metadata": {},
   "outputs": [],
   "source": []
  }
 ],
 "metadata": {
  "kernelspec": {
   "display_name": "Julia 0.6.2",
   "language": "julia",
   "name": "julia-0.6"
  },
  "language_info": {
   "file_extension": ".jl",
   "mimetype": "application/julia",
   "name": "julia",
   "version": "0.6.2"
  }
 },
 "nbformat": 4,
 "nbformat_minor": 2
}
